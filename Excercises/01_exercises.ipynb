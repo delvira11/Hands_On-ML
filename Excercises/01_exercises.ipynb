{
 "cells": [
  {
   "cell_type": "markdown",
   "id": "68cd1dbd",
   "metadata": {},
   "source": [
    "## Exercises"
   ]
  },
  {
   "cell_type": "markdown",
   "id": "f4ba8bd7",
   "metadata": {},
   "source": [
    "### **1. How would you define machine learning?**"
   ]
  },
  {
   "cell_type": "markdown",
   "id": "6a135f50",
   "metadata": {},
   "source": [
    "Machine Learning is about building systems that can learn from data. Learning means getting better at some task, given some performance measure."
   ]
  },
  {
   "cell_type": "markdown",
   "id": "05db6345",
   "metadata": {},
   "source": [
    "### **2. Can you name four types of applications where it shines?**"
   ]
  },
  {
   "cell_type": "markdown",
   "id": "801887cf",
   "metadata": {},
   "source": [
    "Machine Learning is great for complex problems for which we have no algorithmic solution, to replace long lists of hand-tuned rules, to build systems that adapt to fluctuating environments, and finally to help humans learn (e.g., data mining)."
   ]
  },
  {
   "cell_type": "markdown",
   "id": "8f98096e",
   "metadata": {},
   "source": [
    "### **3. What is a labeled training set?**"
   ]
  },
  {
   "cell_type": "markdown",
   "id": "d6764ef3",
   "metadata": {},
   "source": [
    "A labeled training set is a dataset where the target variable is known for each instance."
   ]
  },
  {
   "cell_type": "markdown",
   "id": "acfa9467",
   "metadata": {},
   "source": [
    "### **4. What are the two most common supervised tasks?**"
   ]
  },
  {
   "cell_type": "markdown",
   "id": "858b3b48",
   "metadata": {},
   "source": [
    "Regression and Classification"
   ]
  },
  {
   "cell_type": "markdown",
   "id": "5da4e28e",
   "metadata": {},
   "source": [
    "### **5. Can you name four common unsupervised tasks?**"
   ]
  },
  {
   "cell_type": "markdown",
   "id": "5901c711",
   "metadata": {},
   "source": [
    "- Clustering\n",
    "- Dimensionality Reduction\n",
    "- Outlier detection\n",
    "- Visualization"
   ]
  },
  {
   "cell_type": "markdown",
   "id": "eea26206",
   "metadata": {},
   "source": [
    "### **6. What type of algorithm would you use to allow a robot to walk in various unknown terrains?**"
   ]
  },
  {
   "cell_type": "markdown",
   "id": "9fa8b716",
   "metadata": {},
   "source": [
    "Reinforcement learning."
   ]
  },
  {
   "cell_type": "markdown",
   "id": "ae052054",
   "metadata": {},
   "source": [
    "### **7. What type of algorithm would you use to segment your customers into multiple groups?**"
   ]
  },
  {
   "cell_type": "markdown",
   "id": "f49f656c",
   "metadata": {},
   "source": [
    "If we know the groups it would be a supervised **classification** problem. If we don't know the groups it would be **clustering**."
   ]
  },
  {
   "cell_type": "markdown",
   "id": "9c61c91b",
   "metadata": {},
   "source": [
    "### **8. Would you frame the problem of spam detection as a supervised learning problem or an unsupervised learning problem?**"
   ]
  },
  {
   "cell_type": "markdown",
   "id": "1e1e4ec1",
   "metadata": {},
   "source": [
    "A spam detection problem is usually a supervised classification problem because we usually have labeled spam emails."
   ]
  },
  {
   "cell_type": "markdown",
   "id": "b5fe5a87",
   "metadata": {},
   "source": [
    "### **9. What is an online learning system?**"
   ]
  },
  {
   "cell_type": "markdown",
   "id": "f5c7a80c",
   "metadata": {},
   "source": [
    "It is a system where you feed the data to the model incremetally in mini-barches."
   ]
  },
  {
   "cell_type": "markdown",
   "id": "2e65db7a",
   "metadata": {},
   "source": [
    "### **10. What is out-of-core learning?**"
   ]
  },
  {
   "cell_type": "markdown",
   "id": "970cb8f6",
   "metadata": {},
   "source": [
    "Out-of-core algorithms can handle vast quantities of data that cannot fit in a computer's main memory. An out-of-core learning algorithm chops the data into mini-batches and uses online learning techniques to learn from these mini-batches.\n",
    "The difference with online learning is that online learning is incremental while out-of-core makes a lot of data fit in memory by "
   ]
  },
  {
   "cell_type": "markdown",
   "id": "54e9083c",
   "metadata": {},
   "source": [
    "### **11. What type of algorithm relies on a similarity measure to make predictions?**"
   ]
  },
  {
   "cell_type": "markdown",
   "id": "71793c99",
   "metadata": {},
   "source": [
    "An instance-based learning system learns the training data by heart; then, when given a new instance, it uses a similarity measure to find the most similar learned instances and uses them to make predictions."
   ]
  },
  {
   "cell_type": "markdown",
   "id": "4dd08265",
   "metadata": {},
   "source": [
    "### **12. What is the difference between a model parameter and a model hyperparameter?**"
   ]
  },
  {
   "cell_type": "markdown",
   "id": "f8f01c2f",
   "metadata": {},
   "source": [
    "- Model parameters are the internal values learned by the model from the training data.\n",
    "- Hyperparameters are the configuration settings chosen before training — they control how the learning process works, not what is learned."
   ]
  },
  {
   "cell_type": "markdown",
   "id": "e41b88ed",
   "metadata": {},
   "source": [
    "### **13. What do model-based algorithms search for? What is the most common strategy they use to succeed? How do they make predictions?**"
   ]
  },
  {
   "cell_type": "markdown",
   "id": "1806ec96",
   "metadata": {},
   "source": [
    "Model-based learning algorithms search for an optimal value for the model parameters such that the model will generalize well to new instances. We usually train such systems by minimizing a cost function that measures how bad the system is at making predictions on the training data, plus a penalty for model complexity if the model is regularized. To make predictions, we feed the new instance's features into the model's prediction function, using the parameter values found by the learning algorithm."
   ]
  },
  {
   "cell_type": "markdown",
   "id": "76b138e4",
   "metadata": {},
   "source": [
    "### **14. Can you name four of the main challenges in machine learning?**"
   ]
  },
  {
   "cell_type": "markdown",
   "id": "56c0add9",
   "metadata": {},
   "source": [
    "Some of the main challenges in Machine Learning are the lack of data, poor data quality, nonrepresentative data, uninformative features, excessively simple models that underfit the training data, and excessively complex models that overfit the data."
   ]
  },
  {
   "cell_type": "markdown",
   "id": "c2c8c6e9",
   "metadata": {},
   "source": [
    "### **15. If your model performs great on the training data but generalizes poorly to new instances, what is happening? Can you name three possible solutions?**"
   ]
  },
  {
   "cell_type": "markdown",
   "id": "59a0447d",
   "metadata": {},
   "source": [
    "If a model performs great on the training data but generalizes poorly to new instances, the model is likely overfitting the training data (or we got extremely lucky on the training data). \n",
    "\n",
    "Possible solutions to overfitting are getting more data, simplifying the model (selecting a simpler algorithm, reducing the number of parameters or features used, or regularizing the model), or reducing the noise in the training data."
   ]
  },
  {
   "cell_type": "markdown",
   "id": "70525970",
   "metadata": {},
   "source": [
    "### **16. What is a test set, and why would you want to use it?**"
   ]
  },
  {
   "cell_type": "markdown",
   "id": "09a656c7",
   "metadata": {},
   "source": [
    "To test the model on data that the model hasn't seen before."
   ]
  },
  {
   "cell_type": "markdown",
   "id": "dcb21bb5",
   "metadata": {},
   "source": [
    "### **17. What is the purpose of a validation set?**"
   ]
  },
  {
   "cell_type": "markdown",
   "id": "4ae41947",
   "metadata": {},
   "source": [
    "The validation set is used during training to tune hyperparameters and evaluate intermediate model performance."
   ]
  },
  {
   "cell_type": "markdown",
   "id": "8cb96106",
   "metadata": {},
   "source": [
    "### **18. What is the train-dev set, when do you need it, and how do you use it?**"
   ]
  },
  {
   "attachments": {
    "image.png": {
     "image/png": "[encoded data removed]"
    }
   },
   "cell_type": "markdown",
   "id": "caae4130",
   "metadata": {},
   "source": [
    "- Training set: Used to train the model (learn parameters)\n",
    "- Train-dev set: Used to evaluate on data from the same distribution as training — helps debug overfitting\n",
    "- Dev (validation) set: Used for hyperparameter tuning, often from the same distribution as test data\n",
    "- Test set: Used for final evaluation only\n",
    "\n",
    "![image.png](attachment:image.png)"
   ]
  },
  {
   "cell_type": "markdown",
   "id": "8acd32d6",
   "metadata": {},
   "source": [
    "### **19. What can go wrong if you tune hyperparameters using the test set?**"
   ]
  },
  {
   "cell_type": "markdown",
   "id": "959e3ac6",
   "metadata": {},
   "source": [
    "Overfitting"
   ]
  }
 ],
 "metadata": {
  "kernelspec": {
   "display_name": "dev",
   "language": "python",
   "name": "python3"
  },
  "language_info": {
   "codemirror_mode": {
    "name": "ipython",
    "version": 3
   },
   "file_extension": ".py",
   "mimetype": "text/x-python",
   "name": "python",
   "nbconvert_exporter": "python",
   "pygments_lexer": "ipython3",
   "version": "3.11.13"
  }
 },
 "nbformat": 4,
 "nbformat_minor": 5
}
